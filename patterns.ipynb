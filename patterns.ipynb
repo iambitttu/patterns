{
 "cells": [
  {
   "cell_type": "code",
   "execution_count": 1,
   "id": "b21c1459",
   "metadata": {},
   "outputs": [
    {
     "name": "stdout",
     "output_type": "stream",
     "text": [
      "5\n",
      "1\n",
      "2 3\n",
      "4 5 6\n",
      "7 8 9 10\n",
      "11 12 13 14 15\n"
     ]
    }
   ],
   "source": [
    "def pattern(n):\n",
    "    a = 1\n",
    "    for i in range(1, n+1):\n",
    "        l = []\n",
    "        for j in range(i):\n",
    "            l.append(a)\n",
    "            a += 1\n",
    "        print(*l)\n",
    "\n",
    "n = int(input())\n",
    "pattern(n)"
   ]
  },
  {
   "cell_type": "code",
   "execution_count": 3,
   "id": "5cb45fc9",
   "metadata": {},
   "outputs": [
    {
     "name": "stdout",
     "output_type": "stream",
     "text": [
      "10\n",
      "*  *  *  *  *  *  *  *  *  *\n",
      "*  *  *  *  *  *  *  *  *\n",
      "*  *  *  *  *  *  *  *\n",
      "*  *  *  *  *  *  *\n",
      "*  *  *  *  *  *\n",
      "*  *  *  *  *\n",
      "*  *  *  *\n",
      "*  *  *\n",
      "*  *\n",
      "*\n"
     ]
    }
   ],
   "source": [
    "def pattern(n):\n",
    "    for i in range(n):\n",
    "        a = []\n",
    "        for j in range(n-i):\n",
    "            a.append('*')\n",
    "        print('  '.join(a))\n",
    "\n",
    "n = int(input())\n",
    "pattern(n)"
   ]
  },
  {
   "cell_type": "code",
   "execution_count": 4,
   "id": "5349f94d",
   "metadata": {},
   "outputs": [
    {
     "name": "stdout",
     "output_type": "stream",
     "text": [
      "10\n",
      "1\n",
      "22\n",
      "333\n",
      "4444\n",
      "55555\n",
      "666666\n",
      "7777777\n",
      "88888888\n",
      "999999999\n",
      "10101010101010101010\n"
     ]
    }
   ],
   "source": [
    "def pattern(n):\n",
    "    for i in range(1, n+1):\n",
    "        a = str(i)*i\n",
    "        print(a)\n",
    "        \n",
    "n = int(input())\n",
    "pattern(n)"
   ]
  },
  {
   "cell_type": "code",
   "execution_count": 5,
   "id": "e9aa83e4",
   "metadata": {},
   "outputs": [
    {
     "name": "stdout",
     "output_type": "stream",
     "text": [
      "4\n",
      "1111\n",
      "1111\n",
      "1111\n",
      "1111\n"
     ]
    }
   ],
   "source": [
    "def pattern(n):\n",
    "    for i in range(n):\n",
    "        print('1'*n)\n",
    "\n",
    "n = int(input())\n",
    "pattern(n)"
   ]
  },
  {
   "cell_type": "code",
   "execution_count": 6,
   "id": "fe558154",
   "metadata": {},
   "outputs": [
    {
     "name": "stdout",
     "output_type": "stream",
     "text": [
      "5\n",
      "12345\n",
      "1  4\n",
      "1 3\n",
      "12\n",
      "1\n"
     ]
    }
   ],
   "source": [
    "def pattern(n):\n",
    "    for i in range(n, 0, -1):\n",
    "        a = ''\n",
    "        if i == 1:\n",
    "            a += str(i)\n",
    "        elif i == n:\n",
    "            for i in range(1, n+1):\n",
    "                a += str(i)\n",
    "        else:\n",
    "            a += '1'\n",
    "            a += ' '*(i-2)\n",
    "            a += str(i)\n",
    "        print(a)\n",
    "\n",
    "n = int(input())\n",
    "pattern(n)"
   ]
  },
  {
   "cell_type": "code",
   "execution_count": 7,
   "id": "a740007f",
   "metadata": {},
   "outputs": [
    {
     "name": "stdout",
     "output_type": "stream",
     "text": [
      "5\n",
      "* * * * *\n",
      " * * * *\n",
      "  * * *\n",
      "   * *\n",
      "    *\n"
     ]
    }
   ],
   "source": [
    "def pattern(n):\n",
    "    for i in range(n):\n",
    "        for j in range(i):\n",
    "            print(' ', end = \"\")\n",
    "        l = []\n",
    "        for j in range(n-i):\n",
    "            l.append('*')\n",
    "        print(' '.join(l))\n",
    "        \n",
    "n = int(input())\n",
    "pattern(n)"
   ]
  },
  {
   "cell_type": "code",
   "execution_count": 10,
   "id": "7312a785",
   "metadata": {},
   "outputs": [
    {
     "name": "stdout",
     "output_type": "stream",
     "text": [
      "10\n",
      "10101010101010101010\n",
      "999999999\n",
      "88888888\n",
      "7777777\n",
      "666666\n",
      "55555\n",
      "4444\n",
      "333\n",
      "22\n",
      "1\n"
     ]
    }
   ],
   "source": [
    "def pattern(n):\n",
    "    for i in range(n, 0, -1):\n",
    "        l = []\n",
    "        for j in range(i):\n",
    "            l.append(str(i))\n",
    "        print(''.join(l))\n",
    "\n",
    "n = int(input())\n",
    "pattern(n)"
   ]
  },
  {
   "cell_type": "code",
   "execution_count": 11,
   "id": "83ab7e8d",
   "metadata": {},
   "outputs": [
    {
     "name": "stdout",
     "output_type": "stream",
     "text": [
      "5\n",
      "12345\n",
      "2345\n",
      "345\n",
      "45\n",
      "5\n"
     ]
    }
   ],
   "source": [
    "def pattern(n):\n",
    "    for i in range(1, n+1):\n",
    "        for j in range(i, n+1):\n",
    "            print(j, end = \"\")\n",
    "        print()\n",
    "        \n",
    "n = int(input())\n",
    "pattern(n)"
   ]
  },
  {
   "cell_type": "code",
   "execution_count": 1,
   "id": "15a69f41",
   "metadata": {},
   "outputs": [
    {
     "name": "stdout",
     "output_type": "stream",
     "text": [
      "5\n",
      "    A\n",
      "   A B\n",
      "  A B C\n",
      " A B C D\n",
      "A B C D E\n"
     ]
    }
   ],
   "source": [
    "def pattern(n):\n",
    "    c = 65\n",
    "    l = []\n",
    "    for i in range(n):\n",
    "        for j in range(n-i-1):\n",
    "            print(' ', end = \"\")\n",
    "        l.append(chr(c + i))\n",
    "        print(*l)\n",
    "        \n",
    "n = int(input())\n",
    "pattern(n)"
   ]
  },
  {
   "cell_type": "code",
   "execution_count": 2,
   "id": "e3211df3",
   "metadata": {},
   "outputs": [
    {
     "name": "stdout",
     "output_type": "stream",
     "text": [
      "5\n",
      "54321\n",
      "4321\n",
      "321\n",
      "21\n",
      "1\n"
     ]
    }
   ],
   "source": [
    "def pattern(n):\n",
    "    for i in range(n, 0, -1):\n",
    "        for j in range(i, 0, -1):\n",
    "            print(j, end = \"\")\n",
    "        print()\n",
    "n = int(input())\n",
    "pattern(n)"
   ]
  },
  {
   "cell_type": "code",
   "execution_count": 3,
   "id": "a0b2751e",
   "metadata": {},
   "outputs": [
    {
     "name": "stdout",
     "output_type": "stream",
     "text": [
      "5\n",
      "    *****\n",
      "   *****\n",
      "  *****\n",
      " *****\n",
      "*****\n"
     ]
    }
   ],
   "source": [
    "def pattern(n):\n",
    "    for i in range(n):\n",
    "        for j in range(n-i-1):\n",
    "            print(' ', end = \"\")\n",
    "        print('*' * n)\n",
    "n = int(input())\n",
    "pattern(n)"
   ]
  },
  {
   "cell_type": "code",
   "execution_count": 2,
   "id": "e2922c92",
   "metadata": {},
   "outputs": [
    {
     "name": "stdout",
     "output_type": "stream",
     "text": [
      "10\n",
      "10\n",
      "910\n",
      "8910\n",
      "78910\n",
      "678910\n",
      "5678910\n",
      "45678910\n",
      "345678910\n",
      "2345678910\n",
      "12345678910\n"
     ]
    }
   ],
   "source": [
    "def pattern(n):\n",
    "    for i in range(n, 0, -1):\n",
    "        l = []\n",
    "        for j in range(i, n+1):\n",
    "            l.append(str(j))\n",
    "        print(''.join(l))\n",
    "        \n",
    "n = int(input())\n",
    "pattern(n)"
   ]
  },
  {
   "cell_type": "code",
   "execution_count": 4,
   "id": "4c172c4a",
   "metadata": {},
   "outputs": [
    {
     "name": "stdout",
     "output_type": "stream",
     "text": [
      "10\n",
      "         A\n",
      "        ABC\n",
      "       ABCDE\n",
      "      ABCDEFG\n",
      "     ABCDEFGHI\n",
      "    ABCDEFGHIJK\n",
      "   ABCDEFGHIJKLM\n",
      "  ABCDEFGHIJKLMNO\n",
      " ABCDEFGHIJKLMNOPQ\n",
      "ABCDEFGHIJKLMNOPQRS\n"
     ]
    }
   ],
   "source": [
    "def pattern(n):\n",
    "    c = 65\n",
    "    for i in range(1, n+1):\n",
    "        for j in range(n-i):\n",
    "            print(' ', end = \"\")\n",
    "        for j in range(2*i - 1):\n",
    "            print(chr(c+j), end = \"\")\n",
    "        print()\n",
    "n = int(input())\n",
    "pattern(n)"
   ]
  },
  {
   "cell_type": "code",
   "execution_count": 5,
   "id": "61b8ee2a",
   "metadata": {},
   "outputs": [
    {
     "name": "stdout",
     "output_type": "stream",
     "text": [
      "5\n",
      "*\n",
      "* *\n",
      "* * *\n",
      "* * * *\n",
      "* * * * *\n"
     ]
    }
   ],
   "source": [
    "def pattern(n):\n",
    "    for i in range(1, n+1):\n",
    "        l = []\n",
    "        for j in range(i):\n",
    "            l.append('*')\n",
    "        print(*l)\n",
    "        \n",
    "n = int(input())\n",
    "pattern(n)"
   ]
  },
  {
   "cell_type": "code",
   "execution_count": 2,
   "id": "d81d1720",
   "metadata": {},
   "outputs": [
    {
     "name": "stdout",
     "output_type": "stream",
     "text": [
      "10\n",
      "JJJJJJJJJJ\n",
      " IIIIIIIII\n",
      "  HHHHHHHH\n",
      "   GGGGGGG\n",
      "    FFFFFF\n",
      "     EEEEE\n",
      "      DDDD\n",
      "       CCC\n",
      "        BB\n",
      "         A\n"
     ]
    }
   ],
   "source": [
    "def pattern(n):\n",
    "    for i in range(n):\n",
    "        for j in range(i):\n",
    "            print(' ', end = \"\")\n",
    "        print(chr(65+n-i-1) * (n-i))\n",
    "        \n",
    "n = int(input())\n",
    "pattern(n)"
   ]
  },
  {
   "cell_type": "code",
   "execution_count": 3,
   "id": "2908d154",
   "metadata": {},
   "outputs": [
    {
     "name": "stdout",
     "output_type": "stream",
     "text": [
      "5\n",
      "13579\n",
      "3579\n",
      "579\n",
      "79\n",
      "9\n"
     ]
    }
   ],
   "source": [
    "def pattern(n):\n",
    "    for i in range(1, (2*n), 2):\n",
    "        l = []\n",
    "        for j in range(i, 2*n, 2):\n",
    "            l.append(str(j))\n",
    "        print(''.join(l))\n",
    "    \n",
    "n = int(input())\n",
    "pattern(n)"
   ]
  },
  {
   "cell_type": "code",
   "execution_count": 4,
   "id": "27b93fa2",
   "metadata": {},
   "outputs": [
    {
     "name": "stdout",
     "output_type": "stream",
     "text": [
      "8\n",
      "       A\n",
      "      BBB\n",
      "     CCCCC\n",
      "    DDDDDDD\n",
      "   EEEEEEEEE\n",
      "  FFFFFFFFFFF\n",
      " GGGGGGGGGGGGG\n",
      "HHHHHHHHHHHHHHH\n"
     ]
    }
   ],
   "source": [
    "def pattern(n):\n",
    "    c = 65\n",
    "    for i in range(n):\n",
    "        for j in range(n-i-1):\n",
    "            print(' ', end = \"\")\n",
    "        for j in range((2*i)+1):\n",
    "            print(chr(c+i), end = \"\")\n",
    "        print()\n",
    "n = int(input())\n",
    "pattern(n)"
   ]
  },
  {
   "cell_type": "code",
   "execution_count": 5,
   "id": "bac5b807",
   "metadata": {},
   "outputs": [
    {
     "name": "stdout",
     "output_type": "stream",
     "text": [
      "5\n",
      "ABCDE\n",
      " ABCD\n",
      "  ABC\n",
      "   AB\n",
      "    A\n"
     ]
    }
   ],
   "source": [
    "def pattern(n):\n",
    "    for i in range(n):\n",
    "        for j in range(i):\n",
    "            print(' ', end = \"\")\n",
    "        for j in range(n-i):\n",
    "            print(chr(65+j), end = \"\")\n",
    "        print()\n",
    "n = int(input())\n",
    "pattern(n)"
   ]
  },
  {
   "cell_type": "code",
   "execution_count": 6,
   "id": "ff01becb",
   "metadata": {},
   "outputs": [
    {
     "name": "stdout",
     "output_type": "stream",
     "text": [
      "5\n",
      "1\n",
      "2 4\n",
      "3 6 9\n",
      "4 8 12 16\n",
      "5 10 15 20 25\n"
     ]
    }
   ],
   "source": [
    "def pattern(n):\n",
    "    for i in range(1, n+1):\n",
    "        l = []\n",
    "        for j in range(1, i+1):\n",
    "            l.append(i*j)\n",
    "        print(*l)\n",
    "        \n",
    "n = int(input())\n",
    "pattern(n)"
   ]
  },
  {
   "cell_type": "code",
   "execution_count": 8,
   "id": "d7f354ee",
   "metadata": {},
   "outputs": [
    {
     "name": "stdout",
     "output_type": "stream",
     "text": [
      "5\n",
      "1\n",
      "1 4\n",
      "1 4 9\n",
      "1 4 9 16\n",
      "1 4 9 16 25\n",
      "1 4 9 16\n",
      "1 4 9\n",
      "1 4\n",
      "1\n"
     ]
    }
   ],
   "source": [
    "def pattern(n):\n",
    "    for i in range(1, n+1):\n",
    "        l = []\n",
    "        for j in range(1, i+1):\n",
    "            l.append(j**2)\n",
    "        print(*l)\n",
    "    for i in range(n-1, 0, -1):\n",
    "        l = []\n",
    "        for j in range(1, i+1):\n",
    "            l.append(j**2)\n",
    "        print(*l)\n",
    "n = int(input())\n",
    "pattern(n)"
   ]
  },
  {
   "cell_type": "code",
   "execution_count": 9,
   "id": "b5bbdafb",
   "metadata": {},
   "outputs": [
    {
     "name": "stdout",
     "output_type": "stream",
     "text": [
      "5\n",
      "    A\n",
      "   CCC\n",
      "  EEEEE\n",
      " GGGGGGG\n",
      "IIIIIIIII\n"
     ]
    }
   ],
   "source": [
    "def pattern(n):\n",
    "    c = 65\n",
    "    for i in range(1, n+1):\n",
    "        for j in range(n-i):\n",
    "            print(' ', end = \"\")\n",
    "        for j in range(2*i - 1):\n",
    "            print(chr(c), end = \"\")\n",
    "        print()\n",
    "        c += 2\n",
    "n = int(input())\n",
    "pattern(n)"
   ]
  },
  {
   "cell_type": "code",
   "execution_count": 11,
   "id": "e76e190c",
   "metadata": {},
   "outputs": [
    {
     "name": "stdout",
     "output_type": "stream",
     "text": [
      "5\n",
      "1\n",
      "2 4\n",
      "1 3 5\n",
      "2 4 6 8\n",
      "1 3 5 7 9\n"
     ]
    }
   ],
   "source": [
    "def pattern(n):\n",
    "    o = ['1']\n",
    "    e = ['2']\n",
    "    for i in range(1, n+1):\n",
    "        if i % 2 == 1:\n",
    "            print(' '.join(o))\n",
    "        else:\n",
    "            print(' '.join(e))\n",
    "        o.append(str(int(o[-1]) + 2))\n",
    "        e.append(str(int(e[-1]) + 2))\n",
    "            \n",
    "n = int(input())\n",
    "pattern(n)"
   ]
  },
  {
   "cell_type": "code",
   "execution_count": 1,
   "id": "20c61542",
   "metadata": {},
   "outputs": [
    {
     "name": "stdout",
     "output_type": "stream",
     "text": [
      "5\n",
      "    *\n",
      "   * *\n",
      "  * * *\n",
      " * * * *\n",
      "* * * * *\n"
     ]
    }
   ],
   "source": [
    "def pattern(n):\n",
    "    c = 65\n",
    "    for i in range(1, n+1):\n",
    "        for j in range(n-i):\n",
    "            print(' ', end = \"\")\n",
    "        l = []\n",
    "        for j in range(i):\n",
    "            l.append('*')\n",
    "        print(*l)\n",
    "n = int(input())\n",
    "pattern(n)"
   ]
  },
  {
   "cell_type": "code",
   "execution_count": 3,
   "id": "e392bc6c",
   "metadata": {},
   "outputs": [
    {
     "name": "stdout",
     "output_type": "stream",
     "text": [
      "10\n",
      "********************\n",
      "*********  *********\n",
      "********    ********\n",
      "*******      *******\n",
      "******        ******\n",
      "*****          *****\n",
      "****            ****\n",
      "***              ***\n",
      "**                **\n",
      "*                  *\n",
      "*                  *\n",
      "**                **\n",
      "***              ***\n",
      "****            ****\n",
      "*****          *****\n",
      "******        ******\n",
      "*******      *******\n",
      "********    ********\n",
      "*********  *********\n",
      "********************\n"
     ]
    }
   ],
   "source": [
    "def pattern(n):\n",
    "    for i in range(n, 0, -1):\n",
    "        for j in range(i):\n",
    "            print('*', end = \"\")\n",
    "        for j in range(2*(n-i)):\n",
    "            print(' ', end = \"\")\n",
    "        for j in range(i):\n",
    "            print('*', end = \"\")\n",
    "            \n",
    "        print()\n",
    "    for i in range(1, n+1):\n",
    "        for j in range(i):\n",
    "            print('*', end = \"\")\n",
    "        for j in range(2*(n-i)):\n",
    "            print(' ', end = \"\")\n",
    "        for j in range(i):\n",
    "            print('*', end = \"\")\n",
    "            \n",
    "        print()\n",
    "n = int(input())\n",
    "pattern(n)"
   ]
  },
  {
   "cell_type": "code",
   "execution_count": 4,
   "id": "c0a8a1db",
   "metadata": {},
   "outputs": [
    {
     "name": "stdout",
     "output_type": "stream",
     "text": [
      "5\n",
      "    1\n",
      "   1 2\n",
      "  1   3\n",
      " 1     4\n",
      "1 2 3 4 5\n"
     ]
    }
   ],
   "source": [
    "def pattern(n):\n",
    "    for i in range(1, n+1):\n",
    "        for j in range(n-i):\n",
    "            print(' ', end = \"\")\n",
    "        if i == 1:\n",
    "            print(1)\n",
    "        elif i == n:\n",
    "            l = []\n",
    "            for j in range(1, n+1):\n",
    "                l.append(j)\n",
    "            print(*l)\n",
    "        else:\n",
    "            l = ['1']\n",
    "            for j in range(1, i-1):\n",
    "                l.append(' ')\n",
    "            l.append(str(i))\n",
    "            print(*l)\n",
    "n = int(input())\n",
    "pattern(n)"
   ]
  },
  {
   "cell_type": "code",
   "execution_count": 5,
   "id": "4c5a9a1d",
   "metadata": {},
   "outputs": [
    {
     "name": "stdout",
     "output_type": "stream",
     "text": [
      "5\n",
      "55555\n",
      "4444\n",
      "333\n",
      "22\n",
      "1\n"
     ]
    }
   ],
   "source": [
    "def pattern(n):\n",
    "    for i in range(n, 0, -1):\n",
    "        l = []\n",
    "        for j in range(i):\n",
    "            l.append(str(i))\n",
    "        print(''.join(l))\n",
    "\n",
    "n = int(input())\n",
    "pattern(n)"
   ]
  },
  {
   "cell_type": "code",
   "execution_count": 6,
   "id": "8d586bd8",
   "metadata": {},
   "outputs": [
    {
     "name": "stdout",
     "output_type": "stream",
     "text": [
      "5\n",
      "5 5 5 5 5\n",
      "4 5 5 5 5\n",
      "3 4 5 5 5\n",
      "2 3 4 5 5\n",
      "1 2 3 4 5\n"
     ]
    }
   ],
   "source": [
    "def pattern(n):\n",
    "    for i in range(1, n+1):\n",
    "        l = []\n",
    "        for j in range(n-i+1, n+1):\n",
    "            l.append(j)\n",
    "        for j in range(n-i):\n",
    "            l.append(n)\n",
    "        print(*l)\n",
    "        \n",
    "n = int(input())\n",
    "pattern(n)"
   ]
  },
  {
   "cell_type": "code",
   "execution_count": 2,
   "id": "6ddb7343",
   "metadata": {},
   "outputs": [
    {
     "name": "stdout",
     "output_type": "stream",
     "text": [
      "5\n",
      "    *\n",
      "   **\n",
      "  ***\n",
      " ****\n",
      "*****\n"
     ]
    }
   ],
   "source": [
    "def pattern(n):\n",
    "    for i in range(1, n+1):\n",
    "        for j in range(n - i):\n",
    "            print(\" \", end = \"\")\n",
    "        for j in range(i):\n",
    "            print(\"*\", end = \"\")\n",
    "        print()\n",
    "\n",
    "n = int(input())\n",
    "pattern(n)"
   ]
  },
  {
   "cell_type": "code",
   "execution_count": 3,
   "id": "db8fca0c",
   "metadata": {},
   "outputs": [
    {
     "name": "stdout",
     "output_type": "stream",
     "text": [
      "5\n",
      "*****\n",
      " ****\n",
      "  ***\n",
      "   **\n",
      "    *\n"
     ]
    }
   ],
   "source": [
    "def pattern(n):\n",
    "    for i in range(n):\n",
    "        l = []\n",
    "        for j in range(i):\n",
    "            l.append(' ')\n",
    "        for j in range(n-i):\n",
    "            l.append('*')\n",
    "        print(''.join(l))\n",
    "        \n",
    "n = int(input())\n",
    "pattern(n)"
   ]
  },
  {
   "cell_type": "code",
   "execution_count": 4,
   "id": "e0e3fe3e",
   "metadata": {},
   "outputs": [
    {
     "name": "stdout",
     "output_type": "stream",
     "text": [
      "5\n",
      "1\n",
      "12\n",
      "1 3\n",
      "1  4\n",
      "12345\n"
     ]
    }
   ],
   "source": [
    "def pattern(n):\n",
    "    for i in range(1, n+1):\n",
    "        a = ''\n",
    "        if i == 1:\n",
    "            a += str(i)\n",
    "        elif i == n:\n",
    "            for i in range(1, n+1):\n",
    "                a += str(i)\n",
    "        else:\n",
    "            a += '1'\n",
    "            a += ' '*(i-2)\n",
    "            a += str(i)\n",
    "        print(a)\n",
    "\n",
    "n = int(input())\n",
    "pattern(n)"
   ]
  },
  {
   "cell_type": "code",
   "execution_count": 5,
   "id": "85135af6",
   "metadata": {},
   "outputs": [
    {
     "name": "stdout",
     "output_type": "stream",
     "text": [
      "3 5\n",
      "* * * * *\n",
      "* * * * *\n",
      "* * * * *\n"
     ]
    }
   ],
   "source": [
    "def pattern(r, c):\n",
    "    for i in range(1, r+1):\n",
    "        l = []\n",
    "        for j in range(c):\n",
    "            l.append('*')\n",
    "        print(*l)\n",
    "\n",
    "r, c = map(int, input().split())\n",
    "pattern(r, c)"
   ]
  },
  {
   "cell_type": "code",
   "execution_count": 6,
   "id": "9af169a9",
   "metadata": {},
   "outputs": [
    {
     "name": "stdout",
     "output_type": "stream",
     "text": [
      "5\n",
      "12345\n",
      "4321\n",
      "123\n",
      "21\n",
      "1\n"
     ]
    }
   ],
   "source": [
    "def pattern(n):\n",
    "    for i in range(n):\n",
    "        if i % 2 == 0:\n",
    "            for j in range(n-i):\n",
    "                print(j+1, end = \"\")\n",
    "        else:\n",
    "            for j in range(n-i, 0, -1):\n",
    "                print(j, end = \"\")\n",
    "        print()\n",
    "n = int(input())\n",
    "pattern(n)"
   ]
  },
  {
   "cell_type": "code",
   "execution_count": 7,
   "id": "997801e7",
   "metadata": {},
   "outputs": [
    {
     "name": "stdout",
     "output_type": "stream",
     "text": [
      "5\n",
      "12345\n",
      "1234\n",
      "123\n",
      "12\n",
      "1\n"
     ]
    }
   ],
   "source": [
    "def pattern(n):\n",
    "    for i in range(n):\n",
    "        for j in range(n-i):\n",
    "            print(j+1, end = \"\")\n",
    "        print()\n",
    "n = int(input())\n",
    "pattern(n)"
   ]
  },
  {
   "cell_type": "code",
   "execution_count": 8,
   "id": "0c52d69f",
   "metadata": {},
   "outputs": [
    {
     "name": "stdout",
     "output_type": "stream",
     "text": [
      "5\n",
      "    1\n",
      "   232\n",
      "  34543\n",
      " 4567654\n",
      "567898765\n"
     ]
    }
   ],
   "source": [
    "def pattern(n):\n",
    "    for i in range(1, n+1):\n",
    "        for j in range(n-i):\n",
    "            print(' ', end = \"\")\n",
    "        l = []\n",
    "        for j in range(i, (2*i)):\n",
    "            l.append(str(j))\n",
    "        for j in range((2*i)-2, i-1, -1):\n",
    "            l.append(str(j))\n",
    "        print(''.join(l))\n",
    "        \n",
    "n = int(input())\n",
    "pattern(n)"
   ]
  },
  {
   "cell_type": "code",
   "execution_count": 2,
   "id": "cd27b926",
   "metadata": {},
   "outputs": [
    {
     "name": "stdout",
     "output_type": "stream",
     "text": [
      "9\n",
      "bbbb*bbbb\n",
      "bbb***bbb\n",
      "bb*****bb\n",
      "b*******b\n",
      "*********\n",
      "b*******b\n",
      "bb*****bb\n",
      "bbb***bbb\n",
      "bbbb*bbbb\n"
     ]
    }
   ],
   "source": [
    "def pattern(n):\n",
    "    for i in range(1, n):\n",
    "        l = []\n",
    "        for j in range(n-i):\n",
    "            l.append('b')\n",
    "        for j in range(2*(i-1)+1):\n",
    "            l.append('*')\n",
    "        for j in range(n-i):\n",
    "            l.append('b')\n",
    "        print(''.join(l))\n",
    "    for i in range(n):\n",
    "        l = []\n",
    "        for j in range(i):\n",
    "            l.append('b')\n",
    "        for j in range(2*(n-i)-1):\n",
    "            l.append('*')        \n",
    "        for j in range(i):\n",
    "            l.append('b')\n",
    "        print(''.join(l))\n",
    "        \n",
    "n = int(input())\n",
    "pattern((n+1)//2)"
   ]
  },
  {
   "cell_type": "code",
   "execution_count": 3,
   "id": "083cf056",
   "metadata": {},
   "outputs": [
    {
     "name": "stdout",
     "output_type": "stream",
     "text": [
      "5\n",
      "123456789\n",
      "1234567\n",
      "12345\n",
      "123\n",
      "1\n"
     ]
    }
   ],
   "source": [
    "def pattern(n):\n",
    "    for i in range(n, 0, -1):\n",
    "        l = []\n",
    "        for j in range(1, (2*i)):\n",
    "            l.append(str(j))\n",
    "        print(''.join(l))\n",
    "        \n",
    "n = int(input())\n",
    "pattern(n)"
   ]
  },
  {
   "cell_type": "code",
   "execution_count": 1,
   "id": "2ac42cec",
   "metadata": {},
   "outputs": [
    {
     "name": "stdout",
     "output_type": "stream",
     "text": [
      "10\n",
      "**********\n",
      "****bb****\n",
      "***bbbb***\n",
      "**bbbbbb**\n",
      "*bbbbbbbb*\n",
      "**bbbbbb**\n",
      "***bbbb***\n",
      "****bb****\n",
      "**********\n"
     ]
    }
   ],
   "source": [
    "def pattern(n):\n",
    "    for i in range(n-1):\n",
    "        l = []\n",
    "        for j in range(n-i):\n",
    "            l.append('*')\n",
    "        for j in range(2*i):\n",
    "            l.append('b')\n",
    "        for j in range(n-i):\n",
    "            l.append('*')\n",
    "        print(''.join(l))\n",
    "        \n",
    "    for i in range(1, n+1):\n",
    "        l = []\n",
    "        for j in range(i):\n",
    "            l.append('*')\n",
    "        for j in range(2*(n-i)):\n",
    "            l.append('b')\n",
    "        for j in range(i):\n",
    "            l.append('*')\n",
    "        print(''.join(l))\n",
    "        \n",
    "n = int(input())\n",
    "pattern(n//2)"
   ]
  },
  {
   "cell_type": "code",
   "execution_count": 2,
   "id": "aef63723",
   "metadata": {},
   "outputs": [
    {
     "name": "stdout",
     "output_type": "stream",
     "text": [
      "5\n",
      "*****\n",
      "b****\n",
      "bb***\n",
      "bbb**\n",
      "bbbb*\n"
     ]
    }
   ],
   "source": [
    "def pattern(n):\n",
    "    for i in range(n):\n",
    "        for j in range(i):\n",
    "            print('b', end = \"\")\n",
    "        for j in range(n-i):\n",
    "            print('*', end = \"\")\n",
    "        print()\n",
    "        \n",
    "n = int(input())\n",
    "pattern(n)"
   ]
  },
  {
   "cell_type": "code",
   "execution_count": 3,
   "id": "81243a93",
   "metadata": {},
   "outputs": [
    {
     "name": "stdout",
     "output_type": "stream",
     "text": [
      "3\n",
      "*\n",
      "*1*\n",
      "*121*\n",
      "*12321*\n",
      "*121*\n",
      "*1*\n",
      "*\n"
     ]
    }
   ],
   "source": [
    "def pattern(n):\n",
    "    print('*')\n",
    "    for i in range(1, n+1):\n",
    "        l = []\n",
    "        l.append('*')\n",
    "        for j in range(1, i+1):\n",
    "            l.append(str(j))\n",
    "        for j in range(i-1, 0, -1):\n",
    "            l.append(str(j))\n",
    "        l.append('*')\n",
    "        print(''.join(l))\n",
    "    for i in range(n-1, 0, -1):\n",
    "        l = []\n",
    "        l.append('*')\n",
    "        for j in range(1, i+1):\n",
    "            l.append(str(j))\n",
    "        for j in range(i-1, 0, -1):\n",
    "            l.append(str(j))\n",
    "        l.append('*')\n",
    "        print(''.join(l))\n",
    "    print('*')\n",
    "    \n",
    "n = int(input())\n",
    "pattern(n)"
   ]
  },
  {
   "cell_type": "code",
   "execution_count": 4,
   "id": "bb6a1c61",
   "metadata": {},
   "outputs": [
    {
     "name": "stdout",
     "output_type": "stream",
     "text": [
      "5\n",
      "    A\n",
      "   ABA\n",
      "  ABCAB\n",
      " ABCDABC\n",
      "ABCDEABCD\n"
     ]
    }
   ],
   "source": [
    "def pattern(n):\n",
    "    c = 65\n",
    "    for i in range(1, n+1):\n",
    "        for j in range(n-i):\n",
    "            print(' ', end = \"\")\n",
    "        for j in range(i):\n",
    "            print(chr(c+j), end = \"\")\n",
    "        for j in range(i-1):\n",
    "            print(chr(c+j), end = \"\")\n",
    "        print()\n",
    "n = int(input())\n",
    "pattern(n)"
   ]
  },
  {
   "cell_type": "code",
   "execution_count": 5,
   "id": "8e5e6686",
   "metadata": {},
   "outputs": [
    {
     "name": "stdout",
     "output_type": "stream",
     "text": [
      "5\n",
      "    *\n",
      "   * *\n",
      "  *   *\n",
      " *     *\n",
      "* * * * *\n"
     ]
    }
   ],
   "source": [
    "def pattern(n):\n",
    "    for i in range(1, n+1):\n",
    "        for j in range(n-i):\n",
    "            print(' ', end = \"\")\n",
    "        l = []\n",
    "        if i == 1:\n",
    "            l.append('*')\n",
    "        elif i == n:\n",
    "            for j in range(n):\n",
    "                l.append('*')\n",
    "        else:\n",
    "            l.append('*')\n",
    "            for j in range(i-2):\n",
    "                l.append(' ')\n",
    "            l.append('*')\n",
    "        print(*l)\n",
    "        \n",
    "n = int(input())\n",
    "pattern(n)"
   ]
  },
  {
   "cell_type": "code",
   "execution_count": 6,
   "id": "1b06c89c",
   "metadata": {},
   "outputs": [
    {
     "name": "stdout",
     "output_type": "stream",
     "text": [
      "5\n",
      "    A\n",
      "   BAB\n",
      "  CBABC\n",
      " DCBABCD\n",
      "EDCBABCDE\n"
     ]
    }
   ],
   "source": [
    "def pattern(n):\n",
    "    c = 65\n",
    "    for i in range(n):\n",
    "        for j in range(n-i-1):\n",
    "            print(' ', end = \"\")\n",
    "            \n",
    "        for j in range(i, -1, -1):\n",
    "            print(chr(c+j), end = \"\")\n",
    "        for j in range(1, i+1):\n",
    "            print(chr(c+j), end = \"\")\n",
    "        print()\n",
    "n = int(input())\n",
    "pattern(n)"
   ]
  },
  {
   "cell_type": "code",
   "execution_count": 2,
   "id": "654a47bb",
   "metadata": {},
   "outputs": [
    {
     "name": "stdout",
     "output_type": "stream",
     "text": [
      "10\n",
      "*\n",
      " *\n",
      "  *\n",
      "   *\n",
      "    *\n",
      "     *\n",
      "      *\n",
      "       *\n",
      "        *\n",
      "**********\n",
      "        *\n",
      "       *\n",
      "      *\n",
      "     *\n",
      "    *\n",
      "   *\n",
      "  *\n",
      " *\n",
      "*\n"
     ]
    }
   ],
   "source": [
    "def pattern(n):\n",
    "    for i in range(n-1):\n",
    "        for j in range(i):\n",
    "            print(' ', end = \"\")\n",
    "        print('*')\n",
    "    print('*' * n)\n",
    "    for i in range(n-2, -1, -1):\n",
    "        for j in range(i):\n",
    "            print(' ', end = \"\")\n",
    "        print('*')\n",
    "n = int(input())\n",
    "pattern(n)"
   ]
  },
  {
   "cell_type": "code",
   "execution_count": 7,
   "id": "5babfbac",
   "metadata": {},
   "outputs": [
    {
     "name": "stdout",
     "output_type": "stream",
     "text": [
      "abcdef\n",
      "abcdef\n",
      "b    e\n",
      "c    d\n",
      "d    c\n",
      "e    b\n",
      "fedcba\n"
     ]
    }
   ],
   "source": [
    "def pattern(s):\n",
    "    n = len(s)\n",
    "    print(s)\n",
    "    for i in range(1, n-1):\n",
    "        res = s[i]\n",
    "        res += ' '*(n-2)\n",
    "        res += s[n-i-1]\n",
    "        print(res)\n",
    "    print(s[::-1])\n",
    "    \n",
    "s = input()\n",
    "pattern(s)"
   ]
  },
  {
   "cell_type": "code",
   "execution_count": 8,
   "id": "e3af12c1",
   "metadata": {},
   "outputs": [
    {
     "name": "stdout",
     "output_type": "stream",
     "text": [
      "5\n",
      "    *\n",
      "   *\n",
      "  *\n",
      " *\n",
      "*****\n",
      " *\n",
      "  *\n",
      "   *\n",
      "    *\n"
     ]
    }
   ],
   "source": [
    "def pattern(n):\n",
    "    for i in range(n-1):\n",
    "        for j in range(n-i-1):\n",
    "            print(' ', end = \"\")\n",
    "        print('*')\n",
    "    print('*' * n)\n",
    "    for i in range(n-2, -1, -1):\n",
    "        for j in range(n-i-1):\n",
    "            print(' ', end = \"\")\n",
    "        print('*')\n",
    "n = int(input())\n",
    "pattern(n)"
   ]
  },
  {
   "cell_type": "code",
   "execution_count": 13,
   "id": "7d3bad50",
   "metadata": {},
   "outputs": [
    {
     "name": "stdout",
     "output_type": "stream",
     "text": [
      "5\n",
      "*        *\n",
      "**      **\n",
      "***    ***\n",
      "****  ****\n",
      "**********\n",
      "**********\n",
      "****  ****\n",
      "***    ***\n",
      "**      **\n",
      "*        *\n"
     ]
    }
   ],
   "source": [
    "def pattern(n):\n",
    "    for i in range(1, n+1):\n",
    "        for j in range(i):\n",
    "            print('*', end = \"\")\n",
    "        for j in range(2*(n-i)):\n",
    "            print(' ', end = \"\")\n",
    "        for j in range(i):\n",
    "            print('*', end = \"\")\n",
    "            \n",
    "        print()\n",
    "    for i in range(n, 0, -1):\n",
    "        for j in range(i):\n",
    "            print('*', end = \"\")\n",
    "        for j in range(2*(n-i)):\n",
    "            print(' ', end = \"\")\n",
    "        for j in range(i):\n",
    "            print('*', end = \"\")\n",
    "            \n",
    "        print()\n",
    "n = int(input())\n",
    "pattern(n)"
   ]
  }
 ],
 "metadata": {
  "kernelspec": {
   "display_name": "Python 3 (ipykernel)",
   "language": "python",
   "name": "python3"
  },
  "language_info": {
   "codemirror_mode": {
    "name": "ipython",
    "version": 3
   },
   "file_extension": ".py",
   "mimetype": "text/x-python",
   "name": "python",
   "nbconvert_exporter": "python",
   "pygments_lexer": "ipython3",
   "version": "3.9.13"
  }
 },
 "nbformat": 4,
 "nbformat_minor": 5
}
